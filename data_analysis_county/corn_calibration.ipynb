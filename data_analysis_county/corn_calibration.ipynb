{
 "cells": [
  {
   "cell_type": "code",
   "execution_count": null,
   "id": "32d01330-475d-459c-bfcf-a8bd7409d5d3",
   "metadata": {},
   "outputs": [],
   "source": [
    "#!pip install aquacrop==2.2\n",
    "#!pip install numba==0.55\n",
    "#!pip install statsmodels==0.13.2\n",
    "#!pip install SALib\n",
    "#!pip install -U scikit-learn scipy matplotlib\n",
    "!pip install --upgrade pyswarm  #https://pythonhosted.org/pyswarm/"
   ]
  },
  {
   "cell_type": "code",
   "execution_count": 2,
   "id": "8868c2db-0628-43eb-9d22-f096c95c42a4",
   "metadata": {
    "tags": []
   },
   "outputs": [],
   "source": [
    "import matplotlib.pyplot as plt\n",
    "import statsmodels.api as sm\n",
    "from statsmodels.tools.eval_measures import rmse\n",
    "from aquacrop.utils import prepare_weather, get_filepath\n",
    "from aquacrop import AquaCropModel, Soil, Crop, InitialWaterContent, IrrigationManagement\n",
    "#from aquacrop.entities import IrrigationManagement\n",
    "\n",
    "import pandas as pd\n",
    "import matplotlib.pyplot as plt\n",
    "import seaborn as sns\n",
    "import numpy as np\n",
    "import datetime\n",
    "import pickle \n",
    "from sklearn.linear_model import LinearRegression\n",
    "from sklearn.metrics import r2_score\n",
    "import sklearn.metrics as metrics\n",
    "from pyswarm import pso\n",
    "import os\n",
    "from os import chdir, getcwd\n"
   ]
  },
  {
   "cell_type": "code",
   "execution_count": 3,
   "id": "86110797-51bf-4652-a06b-428bf958c58d",
   "metadata": {
    "tags": []
   },
   "outputs": [],
   "source": [
    "os.chdir('/home/jupyter-wndlovu/') # change working directory\n",
    "\n",
    "wd=getcwd()"
   ]
  },
  {
   "cell_type": "code",
   "execution_count": 83,
   "id": "e8452c5f-e3e6-4d38-a11e-d1d1dca87110",
   "metadata": {
    "tags": []
   },
   "outputs": [],
   "source": [
    "def soilCompart(soilList):\n",
    "    custom_soil = []\n",
    "    for df in soilList:\n",
    "\n",
    "        #soils_df = df.groupby(['Year'])\n",
    "        soils_df = [v for k, v in df.groupby('Year')]\n",
    "        #print(soils_df)\n",
    "        for j in soils_df:\n",
    "            #df_list = []\n",
    "            soils_df_pivot = j.drop(['crop_mn_codeyear', 'Year'], axis=1)\n",
    "            #print(soils_df_pivot)\n",
    "            for i, row in soils_df_pivot.iterrows():\n",
    "                #print(row)\n",
    "                #print(soils_df_pivot)\n",
    "                if row['depth'] == \"0_5\":\n",
    "                    pred_thWP_5 = ((-0.024*((soils_df_pivot['sand'][i])/100))) + ((0.487*((soils_df_pivot['clay'][i])/100))) + ((0.006*((soils_df_pivot['om'][i])/100))) + ((0.005*((soils_df_pivot['sand'][i])/100))*((soils_df_pivot['om'][i])/100))- ((0.013*((soils_df_pivot['clay'][i])/100))*((soils_df_pivot['om'][i])/100))+ ((0.068*((soils_df_pivot['sand'][i])/100))*((soils_df_pivot['clay'][i])/100))+ 0.031\n",
    "                    wp_5 = pred_thWP_5 + (0.14 * pred_thWP_5) - 0.02\n",
    "                    pred_thFC_5 = ((-0.251*((soils_df_pivot['sand'][i])/100))) + ((0.195*((soils_df_pivot['clay'][i])/100)))+ ((0.011*((soils_df_pivot['om'][i])/100))) + ((0.006*((soils_df_pivot['sand'][i])/100))*((soils_df_pivot['om'][i])/100))- ((0.027*((soils_df_pivot['clay'][i])/100))*((soils_df_pivot['om'][i])/100))+ ((0.452*((soils_df_pivot['sand'][i])/100))*((soils_df_pivot['clay'][i])/100))+ 0.299\n",
    "                    fc_5 = pred_thFC_5 + (1.283 * (np.power(pred_thFC_5, 2))) - (0.374 * pred_thFC_5) - 0.015\n",
    "                        #fc = pred_thFC + (1.283 * (pred_thFC*pred_thFC)) - (0.374 * pred_thFC) - 0.015\n",
    "                    ts_5 =soils_df_pivot[\"theta_s\"][i]\n",
    "                    ks_5=(soils_df_pivot['ksat'][i])*240\n",
    "                if row['depth'] == \"100_200\":\n",
    "                    pred_thWP_200 = ((-0.024*((soils_df_pivot['sand'][i])/100))) + ((0.487*((soils_df_pivot['clay'][i])/100))) + ((0.006*((soils_df_pivot['om'][i])/100))) + ((0.005*((soils_df_pivot['sand'][i])/100))*((soils_df_pivot['om'][i])/100))- ((0.013*((soils_df_pivot['clay'][i])/100))*((soils_df_pivot['om'][i])/100))+ ((0.068*((soils_df_pivot['sand'][i])/100))*((soils_df_pivot['clay'][i])/100))+ 0.031\n",
    "                    wp_200 = pred_thWP_200 + (0.14 * pred_thWP_200) - 0.02\n",
    "                    pred_thFC_200 = ((-0.251*((soils_df_pivot['sand'][i])/100))) + ((0.195*((soils_df_pivot['clay'][i])/100)))+ ((0.011*((soils_df_pivot['om'][i])/100))) + ((0.006*((soils_df_pivot['sand'][i])/100))*((soils_df_pivot['om'][i])/100))- ((0.027*((soils_df_pivot['clay'][i])/100))*((soils_df_pivot['om'][i])/100))+ ((0.452*((soils_df_pivot['sand'][i])/100))*((soils_df_pivot['clay'][i])/100))+ 0.299\n",
    "                    fc_200 = pred_thFC_200 + (1.283 * (np.power(pred_thFC_200, 2))) - (0.374 * pred_thFC_200) - 0.015\n",
    "                    #fc = pred_thFC + (1.283 * (pred_thFC*pred_thFC)) - (0.374 * pred_thFC) - 0.015\n",
    "                    ts_200 =soils_df_pivot[\"theta_s\"][i]\n",
    "                    ks_200=(soils_df_pivot['ksat'][i])*240\n",
    "                if row['depth'] == \"15_30\":\n",
    "                    pred_thWP_30 = ((-0.024*((soils_df_pivot['sand'][i])/100))) + ((0.487*((soils_df_pivot['clay'][i])/100))) + ((0.006*((soils_df_pivot['om'][i])/100))) + ((0.005*((soils_df_pivot['sand'][i])/100))*((soils_df_pivot['om'][i])/100))- ((0.013*((soils_df_pivot['clay'][i])/100))*((soils_df_pivot['om'][i])/100))+ ((0.068*((soils_df_pivot['sand'][i])/100))*((soils_df_pivot['clay'][i])/100))+ 0.031\n",
    "                    wp_30 = pred_thWP_30 + (0.14 * pred_thWP_30) - 0.02\n",
    "                    pred_thFC_30 = ((-0.251*((soils_df_pivot['sand'][i])/100))) + ((0.195*((soils_df_pivot['clay'][i])/100)))+ ((0.011*((soils_df_pivot['om'][i])/100))) + ((0.006*((soils_df_pivot['sand'][i])/100))*((soils_df_pivot['om'][i])/100))- ((0.027*((soils_df_pivot['clay'][i])/100))*((soils_df_pivot['om'][i])/100))+ ((0.452*((soils_df_pivot['sand'][i])/100))*((soils_df_pivot['clay'][i])/100))+ 0.299\n",
    "                    fc_30 = pred_thFC_30 + (1.283 * (np.power(pred_thFC_30, 2))) - (0.374 * pred_thFC_30) - 0.015\n",
    "                    #fc = pred_thFC + (1.283 * (pred_thFC*pred_thFC)) - (0.374 * pred_thFC) - 0.015\n",
    "                    ts_30 =soils_df_pivot[\"theta_s\"][i]\n",
    "                    ks_30=(soils_df_pivot['ksat'][i])*240\n",
    "                if row['depth'] == \"30_60\":\n",
    "                    pred_thWP_60 = ((-0.024*((soils_df_pivot['sand'][i])/100))) + ((0.487*((soils_df_pivot['clay'][i])/100))) + ((0.006*((soils_df_pivot['om'][i])/100))) + ((0.005*((soils_df_pivot['sand'][i])/100))*((soils_df_pivot['om'][i])/100))- ((0.013*((soils_df_pivot['clay'][i])/100))*((soils_df_pivot['om'][i])/100))+ ((0.068*((soils_df_pivot['sand'][i])/100))*((soils_df_pivot['clay'][i])/100))+ 0.031\n",
    "                    wp_60 = pred_thWP_60 + (0.14 * pred_thWP_60) - 0.02\n",
    "                    pred_thFC_60 = ((-0.251*((soils_df_pivot['sand'][i])/100))) + ((0.195*((soils_df_pivot['clay'][i])/100)))+ ((0.011*((soils_df_pivot['om'][i])/100))) + ((0.006*((soils_df_pivot['sand'][i])/100))*((soils_df_pivot['om'][i])/100))- ((0.027*((soils_df_pivot['clay'][i])/100))*((soils_df_pivot['om'][i])/100))+ ((0.452*((soils_df_pivot['sand'][i])/100))*((soils_df_pivot['clay'][i])/100))+ 0.299\n",
    "                    fc_60 = pred_thFC_60 + (1.283 * (np.power(pred_thFC_60, 2))) - (0.374 * pred_thFC_60) - 0.015\n",
    "                    #fc = pred_thFC + (1.283 * (pred_thFC*pred_thFC)) - (0.374 * pred_thFC) - 0.015\n",
    "                    ts_60 =soils_df_pivot[\"theta_s\"][i]\n",
    "                    ks_60=(soils_df_pivot['ksat'][i])*240\n",
    "                if row['depth'] == \"5_15\":\n",
    "                    pred_thWP_15 = ((-0.024*((soils_df_pivot['sand'][i])/100))) + ((0.487*((soils_df_pivot['clay'][i])/100))) + ((0.006*((soils_df_pivot['om'][i])/100))) + ((0.005*((soils_df_pivot['sand'][i])/100))*((soils_df_pivot['om'][i])/100))- ((0.013*((soils_df_pivot['clay'][i])/100))*((soils_df_pivot['om'][i])/100))+ ((0.068*((soils_df_pivot['sand'][i])/100))*((soils_df_pivot['clay'][i])/100))+ 0.031\n",
    "                    wp_15 = pred_thWP_15 + (0.14 * pred_thWP_15) - 0.02\n",
    "                    pred_thFC_15 = ((-0.251*((soils_df_pivot['sand'][i])/100))) + ((0.195*((soils_df_pivot['clay'][i])/100)))+ ((0.011*((soils_df_pivot['om'][i])/100))) + ((0.006*((soils_df_pivot['sand'][i])/100))*((soils_df_pivot['om'][i])/100))- ((0.027*((soils_df_pivot['clay'][i])/100))*((soils_df_pivot['om'][i])/100))+ ((0.452*((soils_df_pivot['sand'][i])/100))*((soils_df_pivot['clay'][i])/100))+ 0.299\n",
    "                    fc_15 = pred_thFC_15 + (1.283 * (np.power(pred_thFC_15, 2))) - (0.374 * pred_thFC_15) - 0.015\n",
    "                    #fc = pred_thFC + (1.283 * (pred_thFC*pred_thFC)) - (0.374 * pred_thFC) - 0.015\n",
    "                    ts_15 =soils_df_pivot[\"theta_s\"][i]\n",
    "                    #print(ts_15)\n",
    "                    ks_15=(soils_df_pivot['ksat'][i])*240\n",
    "                if row['depth'] == \"60_100\":\n",
    "                    pred_thWP_100 = ((-0.024*((soils_df_pivot['sand'][i])/100))) + ((0.487*((soils_df_pivot['clay'][i])/100))) + ((0.006*((soils_df_pivot['om'][i])/100))) + ((0.005*((soils_df_pivot['sand'][i])/100))*((soils_df_pivot['om'][i])/100))- ((0.013*((soils_df_pivot['clay'][i])/100))*((soils_df_pivot['om'][i])/100))+ ((0.068*((soils_df_pivot['sand'][i])/100))*((soils_df_pivot['clay'][i])/100))+ 0.031\n",
    "                    wp_100 = pred_thWP_100 + (0.14 * pred_thWP_100) - 0.02\n",
    "                    pred_thFC_100 = ((-0.251*((soils_df_pivot['sand'][i])/100))) + ((0.195*((soils_df_pivot['clay'][i])/100)))+ ((0.011*((soils_df_pivot['om'][i])/100))) + ((0.006*((soils_df_pivot['sand'][i])/100))*((soils_df_pivot['om'][i])/100))- ((0.027*((soils_df_pivot['clay'][i])/100))*((soils_df_pivot['om'][i])/100))+ ((0.452*((soils_df_pivot['sand'][i])/100))*((soils_df_pivot['clay'][i])/100))+ 0.299\n",
    "                    fc_100 = pred_thFC_100 + (1.283 * (np.power(pred_thFC_100, 2))) - (0.374 * pred_thFC_100) - 0.015\n",
    "                    #fc = pred_thFC + (1.283 * (pred_thFC*pred_thFC)) - (0.374 * pred_thFC) - 0.015\n",
    "                    ts_100 =soils_df_pivot[\"theta_s\"][i]\n",
    "                    ks_100=(soils_df_pivot['ksat'][i])*240\n",
    "\n",
    "\n",
    "\n",
    "                    custom = Soil('custom',cn=46,rew=7, dz=[0.025]*2+[0.05]*2+[0.075]*2+[0.15]*2+[0.2]*2+[0.5]*2)\n",
    "\n",
    "                    custom.add_layer(thickness=0.05,thS=ts_5, # assuming soil properties are the same in the upper 0.1m\n",
    "                         Ksat=ks_5,thWP =wp_5 , \n",
    "                         thFC = fc_5, penetrability = 100.0)\n",
    "                    custom.add_layer(thickness=0.15,thS=ts_15, # assuming soil properties are the same in the upper 0.1m\n",
    "                                 Ksat=ks_15,thWP =wp_15 , \n",
    "                                 thFC = fc_15, penetrability = 100.0)\n",
    "                    custom.add_layer(thickness=0.3,thS=ts_30, # assuming soil properties are the same in the upper 0.1m\n",
    "                                 Ksat=ks_30,thWP =wp_30 , \n",
    "                                 thFC = fc_30, penetrability = 100.0)\n",
    "                    custom.add_layer(thickness=0.3,thS=ts_60, # assuming soil properties are the same in the upper 0.1m\n",
    "                                 Ksat=ks_60,thWP =wp_60 , \n",
    "                                 thFC = fc_60, penetrability = 100.0)\n",
    "                    custom.add_layer(thickness=0.4,thS=ts_100, # assuming soil properties are the same in the upper 0.1m\n",
    "                                 Ksat=ks_100,thWP =wp_100 , \n",
    "                                 thFC = fc_100, penetrability = 100.0)\n",
    "                    custom.add_layer(thickness=1,thS=ts_200, # assuming soil properties are the same in the upper 0.1m\n",
    "                                 Ksat=ks_200,thWP =wp_200 , \n",
    "                                 thFC = fc_200, penetrability = 100.0)\n",
    "                    custom_soil.append(custom)\n",
    "                    #df_list.append(custom)\n",
    "\n",
    "                    #print(custom)\n",
    "\n",
    "    return(custom_soil)"
   ]
  },
  {
   "cell_type": "code",
   "execution_count": 150,
   "id": "38603d88-59f7-4e16-a2b3-0b0181d47c7d",
   "metadata": {
    "tags": []
   },
   "outputs": [],
   "source": [
    "with open(wd + '/eggs/data/input_dict.pickle', 'rb') as input_data: \n",
    "    input_dict = pickle.load(input_data) "
   ]
  },
  {
   "cell_type": "markdown",
   "id": "75635b02-4110-4da5-9c1a-d08a9eda9beb",
   "metadata": {},
   "source": [
    "## Irrigated corn"
   ]
  },
  {
   "cell_type": "code",
   "execution_count": 151,
   "id": "642c7b79-f943-4267-ae3a-8798a5e57a84",
   "metadata": {
    "tags": []
   },
   "outputs": [],
   "source": [
    "irrig_corn = '1' # code for irrigated corn\n",
    "irrig_corn_dict = {k:v for (k,v) in input_dict.items() if irrig_corn in k}"
   ]
  },
  {
   "cell_type": "code",
   "execution_count": 152,
   "id": "b5080e9a-a142-44e0-8668-bd6a7d424a67",
   "metadata": {
    "tags": []
   },
   "outputs": [],
   "source": [
    "# calibrate using the decatur, gove, graham, logan, rawlins\n",
    "calibration = list(irrig_corn_dict.items())[:5]\n",
    "#calibration"
   ]
  },
  {
   "cell_type": "code",
   "execution_count": 153,
   "id": "095d1ad5-d56c-42c4-8966-d82724704081",
   "metadata": {
    "tags": []
   },
   "outputs": [],
   "source": [
    "#calibration[0][1]"
   ]
  },
  {
   "cell_type": "code",
   "execution_count": 154,
   "id": "9aaa8249-cd18-414d-b4d3-4ea8e78b2b48",
   "metadata": {
    "tags": []
   },
   "outputs": [],
   "source": [
    "# getting the different datasets\n",
    "gridmet = [sublist[1][0] for sublist in calibration] # data stored in nested list with 0 having the \n",
    "lai = [sublist[1][1] for sublist in calibration]\n",
    "soil = [sublist[1][2] for sublist in calibration]"
   ]
  },
  {
   "cell_type": "markdown",
   "id": "86d68985-c364-4956-8220-4f098b2af3a7",
   "metadata": {},
   "source": [
    "### Soil data is currently being saved in one list - wondering if saving it in 5 lists make more sense (one list for each county)"
   ]
  },
  {
   "cell_type": "code",
   "execution_count": 116,
   "id": "f5288fca-d080-45c9-b7ba-2837d1647c45",
   "metadata": {
    "tags": []
   },
   "outputs": [],
   "source": [
    "soil_irrig = soilCompart(soil)"
   ]
  },
  {
   "cell_type": "code",
   "execution_count": null,
   "id": "26c1248e-e108-4fb1-8448-c2124f5b4f8d",
   "metadata": {
    "tags": []
   },
   "outputs": [],
   "source": [
    "dec_met = gridmet[0]\n",
    "dec_met"
   ]
  },
  {
   "cell_type": "code",
   "execution_count": null,
   "id": "3bbf25b5-772c-4812-97c7-cf3fbba1aa7b",
   "metadata": {
    "tags": []
   },
   "outputs": [],
   "source": [
    "gridmet_df = [v for k, v in dec_met.groupby('Year')]\n",
    "\n",
    "for met in gridmet_df:\n",
    "    yr = met.Year.unique()\n",
    "    print(yr)"
   ]
  },
  {
   "cell_type": "code",
   "execution_count": 159,
   "id": "026d4b9d-f2e1-4bd5-b3c8-872c6debe694",
   "metadata": {
    "tags": []
   },
   "outputs": [],
   "source": [
    "\n",
    "model_results = []\n",
    "gridmet_df = [v for k, v in dec_met.groupby('Year')]\n",
    "for met in gridmet_df:\n",
    "    yr = met['Year'].unique()[0]\n",
    "    wdf = met[['MinTemp', \n",
    "                         'MaxTemp',\n",
    "                         'Precipitation', \n",
    "                         'ReferenceET',\n",
    "                         'Date'\n",
    "                        ]]\n",
    "    sim_start = f'{yr}/01/01' #dates to match crop data\n",
    "    sim_end = f'{yr}/12/31'\n",
    "    #print(sim_start)\n",
    "    initWC = InitialWaterContent(value=['FC'])\n",
    "    irr_mngt = IrrigationManagement(irrigation_method=1,SMT=[80]*4) # no irrigation\n",
    "    \n",
    "    # uncalibrated model - yield\n",
    "    crop_uncalibrated = Crop('Maize', planting_date='05/01') \n",
    "\n",
    "    # run model\n",
    "    model_uc = AquaCropModel(sim_start,sim_end,wdf,soil_irrig[0],crop_uncalibrated,initWC, irr_mngt)\n",
    "    model_uc.run_model(till_termination=True) # run model till the end\n",
    "    #model_uc_et = model_uc._outputs.water_flux\n",
    "    model_uc_irr = model_uc._outputs.final_stats\n",
    "    model_results.append(model_uc_irr)\n",
    "    \n",
    "model_results_df = pd.concat(model_results)\n",
    "    \n",
    "\n"
   ]
  },
  {
   "cell_type": "code",
   "execution_count": null,
   "id": "8469f0ce-d556-48a8-8100-bae48dd8d887",
   "metadata": {
    "tags": []
   },
   "outputs": [],
   "source": [
    "model_results_df"
   ]
  },
  {
   "cell_type": "code",
   "execution_count": null,
   "id": "44be74e1-c3f3-4461-b98b-a812b9ad1c69",
   "metadata": {},
   "outputs": [],
   "source": [
    "\n",
    "sim_start = f'{1979}/01/01' #dates to match crop data\n",
    "sim_end = f'{1979}/12/31'\n",
    "initWC = InitialWaterContent(value=['FC'])\n",
    "irr_mngt = IrrigationManagement(irrigation_method=1,SMT=[80]*4) # no irrigation\n",
    "\n",
    "\n",
    "# uncalibrated model - yield\n",
    "crop_uncalibrated = Crop('Maize', planting_date='05/01') \n",
    "\n",
    "# run model\n",
    "model_uc = AquaCropModel(sim_start,sim_end,wdf,custom,crop_uncalibrated,initWC, irr_mngt)\n",
    "model_uc.run_model(till_termination=True) # run model till the end\n",
    "#model_uc_et = model_uc._outputs.water_flux\n",
    "model_uc_irr = model_uc._outputs.final_stats\n",
    "#model_df_water_storage = model._outputs.water_storage\n",
    "#model_df_crp_grwth = model._outputs.crop_growth\n"
   ]
  },
  {
   "cell_type": "code",
   "execution_count": null,
   "id": "6959be53-6a8d-46ae-9ec2-c54cf5dfeea0",
   "metadata": {},
   "outputs": [],
   "source": [
    "sim_start = '2000/01/01' #dates to match crop data\n",
    "sim_end = '2020/12/31'\n",
    "initWC = InitialWaterContent(value=['FC'])\n",
    "irr_mngt = IrrigationManagement(irrigation_method=1,SMT=[80]*4) # no irrigation\n",
    "\n",
    "\n",
    "# uncalibrated model - yield\n",
    "crop_uncalibrated = Crop('Maize', planting_date='05/01') \n",
    "\n",
    "# run model\n",
    "model_uc = AquaCropModel(sim_start,sim_end,wdf,custom,crop_uncalibrated,initWC, irr_mngt)\n",
    "model_uc.run_model(till_termination=True) # run model till the end\n",
    "#model_uc_et = model_uc._outputs.water_flux\n",
    "model_uc_irr = model_uc._outputs.final_stats\n",
    "#model_df_water_storage = model._outputs.water_storage\n",
    "#model_df_crp_grwth = model._outputs.crop_growth\n",
    "\n",
    "## Create year variable\n",
    "model_uc_irr = model_uc_irr.assign(Year =  model_uc_irr['Harvest Date (YYYY/MM/DD)'].dt.year)\n",
    "model_uc_irr = model_uc_irr.rename(columns={\n",
    "                   'Yield (tonne/ha)': 'Uncalib Yield (t/ha)',\n",
    "                   'Seasonal irrigation (mm)': 'Uncalib Irrigation (mm)'\n",
    "                   })\n",
    "model_uc_irr = model_uc_irr[['Year', 'Uncalib Yield (t/ha)', 'Uncalib Irrigation (mm)']]\n"
   ]
  }
 ],
 "metadata": {
  "kernelspec": {
   "display_name": "eggs2",
   "language": "python",
   "name": "eggs2"
  },
  "language_info": {
   "codemirror_mode": {
    "name": "ipython",
    "version": 3
   },
   "file_extension": ".py",
   "mimetype": "text/x-python",
   "name": "python",
   "nbconvert_exporter": "python",
   "pygments_lexer": "ipython3",
   "version": "3.9.9"
  }
 },
 "nbformat": 4,
 "nbformat_minor": 5
}
