{
 "cells": [
  {
   "cell_type": "code",
   "execution_count": 14,
   "id": "326168e9-9ef3-433c-a4fc-df5b1331a7e8",
   "metadata": {},
   "outputs": [],
   "source": [
    "import statsmodels.api as sm\n",
    "from statsmodels.tools.eval_measures import rmse\n",
    "from aquacrop.utils import prepare_weather, get_filepath\n",
    "from aquacrop import AquaCropModel, Soil, Crop, InitialWaterContent, IrrigationManagement\n",
    "#from aquacrop.entities import IrrigationManagement\n",
    "from os import chdir, getcwd\n",
    "import pandas as pd\n",
    "import matplotlib.pyplot as plt\n",
    "import seaborn as sns\n",
    "import numpy as np\n",
    "import datetime\n",
    "import csv\n",
    "import pickle \n",
    "#from dfply import *\n",
    "\n",
    "from os import chdir, getcwd\n",
    "import os \n",
    "import datetime\n",
    "import shapefile as shp\n",
    "import pandas as pd\n",
    "import geopandas as gpd\n",
    "from shapely import geometry\n",
    "import math\n",
    "from os import listdir\n",
    "from os.path import isfile, join\n",
    "import glob"
   ]
  },
  {
   "cell_type": "code",
   "execution_count": null,
   "id": "a987752f-00e3-4a97-9fc9-055a97be8e70",
   "metadata": {},
   "outputs": [],
   "source": [
    "os.chdir('/home/jupyter-wndlovu/') # change working directory\n",
    "\n",
    "wd=getcwd()\n",
    "#wd"
   ]
  },
  {
   "cell_type": "code",
   "execution_count": 36,
   "id": "85c8fe43-c244-4315-a1da-d335acb7c760",
   "metadata": {
    "tags": []
   },
   "outputs": [],
   "source": [
    "# add county files\n",
    "# \n",
    "def fileInput(filepath):\n",
    "    \"\"\"This function is used to read input data (.csv files) stored in folders\"\"\"\n",
    "    path =  filepath# landouse folder path\n",
    "    files = [f for f in listdir(path) if isfile(join(path, f))] # read files from folder\n",
    "    dfs_list = []  # List to store the dataframes\n",
    "\n",
    "    for file in files: # read files and save them a list of dataframes\n",
    "        file_path = os.path.join(path, file)\n",
    "        df = pd.read_csv(file_path) \n",
    "        dfs_list.append(df)\n",
    "        \n",
    "    return(dfs_list)\n"
   ]
  },
  {
   "cell_type": "code",
   "execution_count": 43,
   "id": "b42afa65-fb21-4ab0-9ddc-d3e875d46591",
   "metadata": {
    "tags": []
   },
   "outputs": [],
   "source": [
    "gridmet_list = fileInput(wd + '/eggs/gmd4_gridMET')\n",
    "lai_list = fileInput(wd + '/eggs/leaf_area_index') \n",
    "soils_list = fileInput(wd + '/eggs/gmd4_soils_county')\n"
   ]
  },
  {
   "cell_type": "code",
   "execution_count": 74,
   "id": "fbf7d2f3-ea09-4ce6-b1a4-37c6e1f993d8",
   "metadata": {
    "tags": []
   },
   "outputs": [],
   "source": [
    "# clean the datasets by the \n",
    "gridmet_df = pd.concat(gridmet_list, ignore_index = True)\n",
    "                         \n",
    "                    \n",
    "gridmet_df = gridmet_df.assign(tmmn = gridmet_df.tmmn-273.15, # convert to celcius\n",
    "                    tmmx = gridmet_df.tmmx-273.15,\n",
    "                    date_ymd = pd.to_datetime(gridmet_df['date_ymd'], format='%Y%m%d'))\n",
    "\n",
    "\n",
    "# rename variables\n",
    "gridmet_df  = gridmet_df.rename(columns = {\n",
    "                                'tmmn':'MinTemp',\n",
    "                                'tmmx':'Maxtemp',\n",
    "                                'pr':'Precipitation',\n",
    "                                'eto':'ReferenceET',\n",
    "                                'date_ymd':'Date'\n",
    "                                })\n",
    "\n",
    "gridmet_df = gridmet_df[['crop_mn_codeyear',\n",
    "                         'MinTemp', \n",
    "                         'Maxtemp',\n",
    "                         'Precipitation', \n",
    "                         'ReferenceET',\n",
    "                         'Date'\n",
    "                        ]]"
   ]
  },
  {
   "cell_type": "code",
   "execution_count": 75,
   "id": "18c855e8-7681-4cd6-8619-8295e82706f2",
   "metadata": {
    "tags": []
   },
   "outputs": [],
   "source": [
    "group_gridmet = gridmet_df.groupby('crop_mn_codeyear')\n",
    "\n",
    "# list to store the dfs\n",
    "gridmet_county_id = []\n",
    "\n",
    "# create separate dfs\n",
    "for i, j in group_gridmet:\n",
    "    gridmet_county_id.append(j.copy())\n",
    "    \n",
    "print(len(gridmet_county_id))"
   ]
  },
  {
   "cell_type": "code",
   "execution_count": 87,
   "id": "355c43fe-029b-4b9d-9d8b-fba0731a8c0b",
   "metadata": {
    "tags": []
   },
   "outputs": [],
   "source": [
    "lai_df = pd.concat(lai_list, ignore_index = True)\n",
    "\n",
    "lai_df = lai_df.assign(cc = (100.5*(1-np.exp(-0.6*lai_df['Lai']))**1.2),\n",
    "                      date = pd.to_datetime(lai_df['date_ymd'], format='%Y%m%d')) # calc canopy cover Hsiao et al. (2009)\n",
    "\n",
    "lai_df = lai_df[['crop_mn_codeyear', 'date', 'Lai', 'cc']]"
   ]
  },
  {
   "cell_type": "code",
   "execution_count": 92,
   "id": "0c4b7274-afbe-4a13-a7c4-a366c274f4a3",
   "metadata": {
    "tags": []
   },
   "outputs": [],
   "source": [
    "group_lai = lai_df.groupby('crop_mn_codeyear')\n",
    "\n",
    "# list to store the dfs\n",
    "lai_county_id = []\n",
    "\n",
    "# create separate dfs\n",
    "for i, j in group_lai:\n",
    "    lai_county_id.append(j.copy())"
   ]
  },
  {
   "cell_type": "code",
   "execution_count": null,
   "id": "e09b400f-bd01-4f06-8a9a-106e4027fd9c",
   "metadata": {},
   "outputs": [],
   "source": []
  }
 ],
 "metadata": {
  "kernelspec": {
   "display_name": "eggs2",
   "language": "python",
   "name": "eggs2"
  },
  "language_info": {
   "codemirror_mode": {
    "name": "ipython",
    "version": 3
   },
   "file_extension": ".py",
   "mimetype": "text/x-python",
   "name": "python",
   "nbconvert_exporter": "python",
   "pygments_lexer": "ipython3",
   "version": "3.9.9"
  }
 },
 "nbformat": 4,
 "nbformat_minor": 5
}
