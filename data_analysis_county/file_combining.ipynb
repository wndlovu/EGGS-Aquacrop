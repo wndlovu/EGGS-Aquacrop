{
 "cells": [
  {
   "cell_type": "code",
   "execution_count": 14,
   "id": "326168e9-9ef3-433c-a4fc-df5b1331a7e8",
   "metadata": {},
   "outputs": [],
   "source": [
    "import statsmodels.api as sm\n",
    "from statsmodels.tools.eval_measures import rmse\n",
    "from aquacrop.utils import prepare_weather, get_filepath\n",
    "from aquacrop import AquaCropModel, Soil, Crop, InitialWaterContent, IrrigationManagement\n",
    "#from aquacrop.entities import IrrigationManagement\n",
    "from os import chdir, getcwd\n",
    "import pandas as pd\n",
    "import matplotlib.pyplot as plt\n",
    "import seaborn as sns\n",
    "import numpy as np\n",
    "import datetime\n",
    "import csv\n",
    "import pickle \n",
    "#from dfply import *\n",
    "\n",
    "from os import chdir, getcwd\n",
    "import os \n",
    "import datetime\n",
    "import shapefile as shp\n",
    "import pandas as pd\n",
    "import geopandas as gpd\n",
    "from shapely import geometry\n",
    "import math\n",
    "from os import listdir\n",
    "from os.path import isfile, join\n",
    "import glob"
   ]
  },
  {
   "cell_type": "code",
   "execution_count": null,
   "id": "a987752f-00e3-4a97-9fc9-055a97be8e70",
   "metadata": {},
   "outputs": [],
   "source": [
    "os.chdir('/home/jupyter-wndlovu/') # change working directory\n",
    "\n",
    "wd=getcwd()\n",
    "#wd"
   ]
  },
  {
   "cell_type": "code",
   "execution_count": 349,
   "id": "85c8fe43-c244-4315-a1da-d335acb7c760",
   "metadata": {
    "tags": []
   },
   "outputs": [],
   "source": [
    "# add county files\n",
    "# \n",
    "def fileInput(filepath):\n",
    "    \"\"\"This function is used to read input data (.csv files) stored in folders\"\"\"\n",
    "    \n",
    "    path =  filepath# landouse folder path\n",
    "    files = [f for f in listdir(path) if isfile(join(path, f))] # read files from folder\n",
    "    dfs_list = []  # List to store the dataframes\n",
    "\n",
    "    for file in files: # read files and save them a list of dataframes\n",
    "        file_path = os.path.join(path, file)\n",
    "        df = pd.read_csv(file_path) \n",
    "        dfs_list.append(df)\n",
    "        \n",
    "    return(dfs_list)\n",
    "\n",
    "\n",
    "def fileList(dataframe):\n",
    "    \"\"\"This function is used to group the gridmet, soils and canopy cover dataframes by the crop, irrigation management and county\"\"\"\n",
    "    \n",
    "    group_dataframe = dataframe.groupby('crop_mn_codeyear')\n",
    "\n",
    "# list to store the dfs\n",
    "    county_list = []\n",
    "\n",
    "# create separate dfs\n",
    "    for i, j in group_dataframe:\n",
    "        county_list.append(j.copy())\n",
    "        \n",
    "    return(county_list)\n"
   ]
  },
  {
   "cell_type": "markdown",
   "id": "d0ccf09c-642e-4dd0-920d-7aa1404f62a9",
   "metadata": {},
   "source": [
    "# Input data"
   ]
  },
  {
   "cell_type": "code",
   "execution_count": 43,
   "id": "b42afa65-fb21-4ab0-9ddc-d3e875d46591",
   "metadata": {
    "tags": []
   },
   "outputs": [],
   "source": [
    "gridmet_list = fileInput(wd + '/eggs/gmd4_gridMET')\n",
    "lai_list = fileInput(wd + '/eggs/leaf_area_index') \n",
    "soils_list = fileInput(wd + '/eggs/gmd4_soils_county')"
   ]
  },
  {
   "cell_type": "markdown",
   "id": "47d41d86-7cb6-4d1e-a44e-869e4935e5ed",
   "metadata": {},
   "source": [
    "# GridMET wrangling"
   ]
  },
  {
   "cell_type": "code",
   "execution_count": 74,
   "id": "fbf7d2f3-ea09-4ce6-b1a4-37c6e1f993d8",
   "metadata": {
    "tags": []
   },
   "outputs": [],
   "source": [
    "# clean the datasets by the \n",
    "gridmet_df = pd.concat(gridmet_list, ignore_index = True)\n",
    "                         \n",
    "                    \n",
    "gridmet_df = gridmet_df.assign(tmmn = gridmet_df.tmmn-273.15, # convert to celcius\n",
    "                    tmmx = gridmet_df.tmmx-273.15,\n",
    "                    date_ymd = pd.to_datetime(gridmet_df['date_ymd'], format='%Y%m%d'))\n",
    "\n",
    "\n",
    "# rename variables\n",
    "gridmet_df  = gridmet_df.rename(columns = {\n",
    "                                'tmmn':'MinTemp',\n",
    "                                'tmmx':'Maxtemp',\n",
    "                                'pr':'Precipitation',\n",
    "                                'eto':'ReferenceET',\n",
    "                                'date_ymd':'Date'\n",
    "                                })\n",
    "\n",
    "gridmet_df = gridmet_df[['crop_mn_codeyear',\n",
    "                         'MinTemp', \n",
    "                         'Maxtemp',\n",
    "                         'Precipitation', \n",
    "                         'ReferenceET',\n",
    "                         'Date'\n",
    "                        ]]"
   ]
  },
  {
   "cell_type": "code",
   "execution_count": 356,
   "id": "2b3b5f93-9567-4b96-99ac-f8d09e0cb17f",
   "metadata": {
    "tags": []
   },
   "outputs": [
    {
     "data": {
      "text/plain": [
       "68"
      ]
     },
     "execution_count": 356,
     "metadata": {},
     "output_type": "execute_result"
    }
   ],
   "source": [
    "gridmet_county = fileList(gridmet_df)\n",
    "len(gridmet_county)"
   ]
  },
  {
   "cell_type": "markdown",
   "id": "9ec73dd8-dceb-483b-9e73-f12f8528f129",
   "metadata": {},
   "source": [
    "# Leaf Area Index Wrangling"
   ]
  },
  {
   "cell_type": "code",
   "execution_count": 87,
   "id": "355c43fe-029b-4b9d-9d8b-fba0731a8c0b",
   "metadata": {
    "tags": []
   },
   "outputs": [],
   "source": [
    "lai_df = pd.concat(lai_list, ignore_index = True)\n",
    "\n",
    "lai_df = lai_df.assign(cc = (100.5*(1-np.exp(-0.6*lai_df['Lai']))**1.2),\n",
    "                      date = pd.to_datetime(lai_df['date_ymd'], format='%Y%m%d')) # calc canopy cover Hsiao et al. (2009)\n",
    "\n",
    "lai_df = lai_df[['crop_mn_codeyear', 'date', 'Lai', 'cc']]"
   ]
  },
  {
   "cell_type": "code",
   "execution_count": 358,
   "id": "0c4b7274-afbe-4a13-a7c4-a366c274f4a3",
   "metadata": {
    "tags": []
   },
   "outputs": [
    {
     "data": {
      "text/plain": [
       "68"
      ]
     },
     "execution_count": 358,
     "metadata": {},
     "output_type": "execute_result"
    }
   ],
   "source": [
    "lai_county = fileList(lai_df) \n",
    "len(lai_county)"
   ]
  },
  {
   "cell_type": "markdown",
   "id": "1e7bc61d-ed92-4ded-999a-0d3e77a77dc9",
   "metadata": {},
   "source": [
    "# Soils wrangling"
   ]
  },
  {
   "cell_type": "code",
   "execution_count": 339,
   "id": "e09b400f-bd01-4f06-8a9a-106e4027fd9c",
   "metadata": {
    "tags": []
   },
   "outputs": [],
   "source": [
    "soils_df = pd.concat(soils_list)\n",
    "\n",
    "soils_df = soils_df[['crop_mn_codeyear', 'Year', 'system:index', 'mean']]"
   ]
  },
  {
   "cell_type": "code",
   "execution_count": 342,
   "id": "d53a59f8-68a9-4b05-8496-d1ea0be4e377",
   "metadata": {
    "tags": []
   },
   "outputs": [],
   "source": [
    "soils_df['variable'] = soils_df['system:index'].str.replace(r'^.*?(?=[a-z])', '', regex=True) # remove all numbers before the firct chr\n",
    "soils_df['soil_var'] = soils_df['variable'].str[:-21] # drop the last 21 characters\n",
    "soils_df['var'] = soils_df['soil_var'].str.rsplit('_', n=2).str[0] # get the soil param\n",
    "soils_df['depth'] =soils_df['soil_var'].str.extract(r'(\\d+_\\d+)') # soil depth\n",
    "soils_df = soils_df[['crop_mn_codeyear', 'Year', 'depth', 'var', 'mean']]"
   ]
  },
  {
   "cell_type": "code",
   "execution_count": 348,
   "id": "9268866a-292f-49dc-93bb-d6a8537897f8",
   "metadata": {
    "tags": []
   },
   "outputs": [
    {
     "data": {
      "text/html": [
       "<div>\n",
       "<style scoped>\n",
       "    .dataframe tbody tr th:only-of-type {\n",
       "        vertical-align: middle;\n",
       "    }\n",
       "\n",
       "    .dataframe tbody tr th {\n",
       "        vertical-align: top;\n",
       "    }\n",
       "\n",
       "    .dataframe thead th {\n",
       "        text-align: right;\n",
       "    }\n",
       "</style>\n",
       "<table border=\"1\" class=\"dataframe\">\n",
       "  <thead>\n",
       "    <tr style=\"text-align: right;\">\n",
       "      <th>var</th>\n",
       "      <th>crop_mn_codeyear</th>\n",
       "      <th>Year</th>\n",
       "      <th>depth</th>\n",
       "      <th>alpha</th>\n",
       "      <th>clay</th>\n",
       "      <th>hb</th>\n",
       "      <th>ksat</th>\n",
       "      <th>lambda</th>\n",
       "      <th>n</th>\n",
       "      <th>om</th>\n",
       "      <th>sand</th>\n",
       "      <th>silt</th>\n",
       "      <th>theta_r</th>\n",
       "      <th>theta_s</th>\n",
       "    </tr>\n",
       "  </thead>\n",
       "  <tbody>\n",
       "    <tr>\n",
       "      <th>0</th>\n",
       "      <td>1_Decatur</td>\n",
       "      <td>2006.0</td>\n",
       "      <td>0_5</td>\n",
       "      <td>-0.415029</td>\n",
       "      <td>21.677830</td>\n",
       "      <td>0.416280</td>\n",
       "      <td>0.199379</td>\n",
       "      <td>0.298007</td>\n",
       "      <td>1.313759</td>\n",
       "      <td>0.193569</td>\n",
       "      <td>16.906940</td>\n",
       "      <td>58.423781</td>\n",
       "      <td>0.058815</td>\n",
       "      <td>0.499963</td>\n",
       "    </tr>\n",
       "    <tr>\n",
       "      <th>1</th>\n",
       "      <td>1_Decatur</td>\n",
       "      <td>2006.0</td>\n",
       "      <td>100_200</td>\n",
       "      <td>-0.417431</td>\n",
       "      <td>17.985571</td>\n",
       "      <td>0.416632</td>\n",
       "      <td>0.242347</td>\n",
       "      <td>0.315498</td>\n",
       "      <td>1.336323</td>\n",
       "      <td>-0.757719</td>\n",
       "      <td>19.357758</td>\n",
       "      <td>59.331870</td>\n",
       "      <td>0.054213</td>\n",
       "      <td>0.488484</td>\n",
       "    </tr>\n",
       "    <tr>\n",
       "      <th>2</th>\n",
       "      <td>1_Decatur</td>\n",
       "      <td>2006.0</td>\n",
       "      <td>15_30</td>\n",
       "      <td>-0.428745</td>\n",
       "      <td>25.289850</td>\n",
       "      <td>0.435674</td>\n",
       "      <td>0.125315</td>\n",
       "      <td>0.285533</td>\n",
       "      <td>1.295082</td>\n",
       "      <td>0.020264</td>\n",
       "      <td>15.133924</td>\n",
       "      <td>55.992885</td>\n",
       "      <td>0.064739</td>\n",
       "      <td>0.501657</td>\n",
       "    </tr>\n",
       "    <tr>\n",
       "      <th>3</th>\n",
       "      <td>1_Decatur</td>\n",
       "      <td>2006.0</td>\n",
       "      <td>30_60</td>\n",
       "      <td>-0.451755</td>\n",
       "      <td>25.984820</td>\n",
       "      <td>0.454456</td>\n",
       "      <td>0.037422</td>\n",
       "      <td>0.284164</td>\n",
       "      <td>1.293146</td>\n",
       "      <td>-0.216263</td>\n",
       "      <td>15.122233</td>\n",
       "      <td>55.539237</td>\n",
       "      <td>0.068000</td>\n",
       "      <td>0.499710</td>\n",
       "    </tr>\n",
       "    <tr>\n",
       "      <th>4</th>\n",
       "      <td>1_Decatur</td>\n",
       "      <td>2006.0</td>\n",
       "      <td>5_15</td>\n",
       "      <td>-0.422424</td>\n",
       "      <td>22.549341</td>\n",
       "      <td>0.426578</td>\n",
       "      <td>0.167593</td>\n",
       "      <td>0.294614</td>\n",
       "      <td>1.308546</td>\n",
       "      <td>0.153332</td>\n",
       "      <td>16.368427</td>\n",
       "      <td>57.726577</td>\n",
       "      <td>0.060534</td>\n",
       "      <td>0.495986</td>\n",
       "    </tr>\n",
       "    <tr>\n",
       "      <th>...</th>\n",
       "      <td>...</td>\n",
       "      <td>...</td>\n",
       "      <td>...</td>\n",
       "      <td>...</td>\n",
       "      <td>...</td>\n",
       "      <td>...</td>\n",
       "      <td>...</td>\n",
       "      <td>...</td>\n",
       "      <td>...</td>\n",
       "      <td>...</td>\n",
       "      <td>...</td>\n",
       "      <td>...</td>\n",
       "      <td>...</td>\n",
       "      <td>...</td>\n",
       "    </tr>\n",
       "    <tr>\n",
       "      <th>5977</th>\n",
       "      <td>8_Wallace</td>\n",
       "      <td>2020.0</td>\n",
       "      <td>100_200</td>\n",
       "      <td>-0.279699</td>\n",
       "      <td>18.787997</td>\n",
       "      <td>0.271937</td>\n",
       "      <td>0.243686</td>\n",
       "      <td>0.332640</td>\n",
       "      <td>1.362163</td>\n",
       "      <td>-0.673430</td>\n",
       "      <td>28.874842</td>\n",
       "      <td>47.304358</td>\n",
       "      <td>0.053232</td>\n",
       "      <td>0.498738</td>\n",
       "    </tr>\n",
       "    <tr>\n",
       "      <th>5978</th>\n",
       "      <td>8_Wallace</td>\n",
       "      <td>2020.0</td>\n",
       "      <td>15_30</td>\n",
       "      <td>-0.320532</td>\n",
       "      <td>23.413299</td>\n",
       "      <td>0.321215</td>\n",
       "      <td>0.116561</td>\n",
       "      <td>0.306804</td>\n",
       "      <td>1.326308</td>\n",
       "      <td>-0.046521</td>\n",
       "      <td>23.304955</td>\n",
       "      <td>49.574708</td>\n",
       "      <td>0.061371</td>\n",
       "      <td>0.506419</td>\n",
       "    </tr>\n",
       "    <tr>\n",
       "      <th>5979</th>\n",
       "      <td>8_Wallace</td>\n",
       "      <td>2020.0</td>\n",
       "      <td>30_60</td>\n",
       "      <td>-0.345823</td>\n",
       "      <td>24.022649</td>\n",
       "      <td>0.349264</td>\n",
       "      <td>0.114771</td>\n",
       "      <td>0.303801</td>\n",
       "      <td>1.320484</td>\n",
       "      <td>-0.251860</td>\n",
       "      <td>21.579254</td>\n",
       "      <td>50.558681</td>\n",
       "      <td>0.063073</td>\n",
       "      <td>0.506955</td>\n",
       "    </tr>\n",
       "    <tr>\n",
       "      <th>5980</th>\n",
       "      <td>8_Wallace</td>\n",
       "      <td>2020.0</td>\n",
       "      <td>5_15</td>\n",
       "      <td>-0.303227</td>\n",
       "      <td>20.838549</td>\n",
       "      <td>0.305431</td>\n",
       "      <td>0.161349</td>\n",
       "      <td>0.320397</td>\n",
       "      <td>1.343348</td>\n",
       "      <td>0.071706</td>\n",
       "      <td>25.823096</td>\n",
       "      <td>49.789387</td>\n",
       "      <td>0.058402</td>\n",
       "      <td>0.508678</td>\n",
       "    </tr>\n",
       "    <tr>\n",
       "      <th>5981</th>\n",
       "      <td>8_Wallace</td>\n",
       "      <td>2020.0</td>\n",
       "      <td>60_100</td>\n",
       "      <td>-0.333689</td>\n",
       "      <td>22.082037</td>\n",
       "      <td>0.341897</td>\n",
       "      <td>0.159444</td>\n",
       "      <td>0.310727</td>\n",
       "      <td>1.330417</td>\n",
       "      <td>-0.495679</td>\n",
       "      <td>22.776234</td>\n",
       "      <td>50.782767</td>\n",
       "      <td>0.058828</td>\n",
       "      <td>0.503019</td>\n",
       "    </tr>\n",
       "  </tbody>\n",
       "</table>\n",
       "<p>5982 rows × 14 columns</p>\n",
       "</div>"
      ],
      "text/plain": [
       "var  crop_mn_codeyear    Year    depth     alpha       clay        hb  \\\n",
       "0           1_Decatur  2006.0      0_5 -0.415029  21.677830  0.416280   \n",
       "1           1_Decatur  2006.0  100_200 -0.417431  17.985571  0.416632   \n",
       "2           1_Decatur  2006.0    15_30 -0.428745  25.289850  0.435674   \n",
       "3           1_Decatur  2006.0    30_60 -0.451755  25.984820  0.454456   \n",
       "4           1_Decatur  2006.0     5_15 -0.422424  22.549341  0.426578   \n",
       "...               ...     ...      ...       ...        ...       ...   \n",
       "5977        8_Wallace  2020.0  100_200 -0.279699  18.787997  0.271937   \n",
       "5978        8_Wallace  2020.0    15_30 -0.320532  23.413299  0.321215   \n",
       "5979        8_Wallace  2020.0    30_60 -0.345823  24.022649  0.349264   \n",
       "5980        8_Wallace  2020.0     5_15 -0.303227  20.838549  0.305431   \n",
       "5981        8_Wallace  2020.0   60_100 -0.333689  22.082037  0.341897   \n",
       "\n",
       "var       ksat    lambda         n        om       sand       silt   theta_r  \\\n",
       "0     0.199379  0.298007  1.313759  0.193569  16.906940  58.423781  0.058815   \n",
       "1     0.242347  0.315498  1.336323 -0.757719  19.357758  59.331870  0.054213   \n",
       "2     0.125315  0.285533  1.295082  0.020264  15.133924  55.992885  0.064739   \n",
       "3     0.037422  0.284164  1.293146 -0.216263  15.122233  55.539237  0.068000   \n",
       "4     0.167593  0.294614  1.308546  0.153332  16.368427  57.726577  0.060534   \n",
       "...        ...       ...       ...       ...        ...        ...       ...   \n",
       "5977  0.243686  0.332640  1.362163 -0.673430  28.874842  47.304358  0.053232   \n",
       "5978  0.116561  0.306804  1.326308 -0.046521  23.304955  49.574708  0.061371   \n",
       "5979  0.114771  0.303801  1.320484 -0.251860  21.579254  50.558681  0.063073   \n",
       "5980  0.161349  0.320397  1.343348  0.071706  25.823096  49.789387  0.058402   \n",
       "5981  0.159444  0.310727  1.330417 -0.495679  22.776234  50.782767  0.058828   \n",
       "\n",
       "var    theta_s  \n",
       "0     0.499963  \n",
       "1     0.488484  \n",
       "2     0.501657  \n",
       "3     0.499710  \n",
       "4     0.495986  \n",
       "...        ...  \n",
       "5977  0.498738  \n",
       "5978  0.506419  \n",
       "5979  0.506955  \n",
       "5980  0.508678  \n",
       "5981  0.503019  \n",
       "\n",
       "[5982 rows x 14 columns]"
      ]
     },
     "execution_count": 348,
     "metadata": {},
     "output_type": "execute_result"
    }
   ],
   "source": [
    "# pivot table to match aquacrop input format\n",
    "soils_df_pivot = soils_df.pivot_table(index=['crop_mn_codeyear', 'Year', 'depth'],\n",
    "                                 columns=\"var\", values=\"mean\")\n",
    "\n",
    "soils_df_pivot.reset_index()"
   ]
  },
  {
   "cell_type": "code",
   "execution_count": null,
   "id": "3d156b29-412a-412d-b161-9234b7f06ef1",
   "metadata": {
    "tags": []
   },
   "outputs": [],
   "source": [
    "soils_county = fileList(soils_df_pivot) \n",
    "len(soils_county)"
   ]
  },
  {
   "cell_type": "markdown",
   "id": "1c6c5bf1-a124-4241-badf-54d7dbc4adeb",
   "metadata": {},
   "source": [
    "# Create dictionary with dataframes for each county, mngt and crop combinatio"
   ]
  },
  {
   "cell_type": "code",
   "execution_count": 396,
   "id": "2a56166f-4721-447f-8b9c-b6690e61fed8",
   "metadata": {
    "tags": []
   },
   "outputs": [
    {
     "data": {
      "text/plain": [
       "array(['1_Rawlins', '1_Decatur', '1_Gove', '1_Thomas', '1_Sheridan',\n",
       "       '1_Graham', '1_Logan', '2_Cheyenne', '2_Rawlins', '2_Decatur',\n",
       "       '2_Sherman', '2_Gove', '2_Thomas', '2_Sheridan', '2_Graham',\n",
       "       '2_Wallace', '2_Logan', '3_Rawlins', '3_Decatur', '3_Gove',\n",
       "       '3_Thomas', '3_Sheridan', '3_Graham', '3_Logan', '4_Cheyenne',\n",
       "       '4_Rawlins', '4_Decatur', '4_Sherman', '4_Gove', '4_Thomas',\n",
       "       '4_Sheridan', '4_Graham', '4_Wallace', '4_Logan', '5_Rawlins',\n",
       "       '5_Gove', '5_Thomas', '5_Sheridan', '5_Graham', '5_Logan',\n",
       "       '6_Cheyenne', '6_Rawlins', '6_Decatur', '6_Sherman', '6_Gove',\n",
       "       '6_Thomas', '6_Sheridan', '6_Graham', '6_Wallace', '6_Logan',\n",
       "       '7_Rawlins', '7_Decatur', '7_Gove', '7_Thomas', '7_Sheridan',\n",
       "       '7_Graham', '7_Logan', '8_Cheyenne', '8_Rawlins', '8_Decatur',\n",
       "       '8_Sherman', '8_Gove', '8_Thomas', '8_Sheridan', '8_Graham',\n",
       "       '8_Wallace', '8_Logan', '5_Decatur'], dtype=object)"
      ]
     },
     "execution_count": 396,
     "metadata": {},
     "output_type": "execute_result"
    }
   ],
   "source": [
    "county_comb = gridmet_df['crop_mn_codeyear'].unique() # get all unique ids\n",
    "county_comb"
   ]
  },
  {
   "cell_type": "code",
   "execution_count": 421,
   "id": "375119be-39b6-4bc0-9129-1db8abe390e3",
   "metadata": {
    "tags": []
   },
   "outputs": [],
   "source": [
    "input_dict = {}\n",
    "comb_len = len(county_comb)\n",
    "\n",
    "# loop through lists to form dict\n",
    "for i in range(comb_len):\n",
    "    key = str(gridmet_county[i]['crop_mn_codeyear'].unique())\n",
    "    #print(key)\n",
    "    value = (gridmet_county[i], lai_county[i], soils_county[i])\n",
    "    input_dict[key] = value"
   ]
  },
  {
   "cell_type": "code",
   "execution_count": null,
   "id": "476d08ae-9d97-4cb1-bd95-8438564c068c",
   "metadata": {
    "tags": []
   },
   "outputs": [],
   "source": [
    "#print(input_dict.keys())"
   ]
  },
  {
   "cell_type": "code",
   "execution_count": 427,
   "id": "6681c3aa-4560-4c78-8b53-13bcae8ec39c",
   "metadata": {
    "tags": []
   },
   "outputs": [],
   "source": [
    "# save dict as pickle\n",
    "with open(wd + '/eggs/data/input_dict.pickle', 'wb') as input_data: # county crop managemnt\n",
    "    pickle.dump(input_dict, input_data) "
   ]
  },
  {
   "cell_type": "markdown",
   "id": "caa59d9b-fd0a-455e-858b-43e03726e885",
   "metadata": {},
   "source": [
    "# Next Step - Calibration"
   ]
  },
  {
   "cell_type": "code",
   "execution_count": null,
   "id": "db111106-2a7e-4828-afe6-dbafe4d30021",
   "metadata": {},
   "outputs": [],
   "source": []
  }
 ],
 "metadata": {
  "kernelspec": {
   "display_name": "eggs2",
   "language": "python",
   "name": "eggs2"
  },
  "language_info": {
   "codemirror_mode": {
    "name": "ipython",
    "version": 3
   },
   "file_extension": ".py",
   "mimetype": "text/x-python",
   "name": "python",
   "nbconvert_exporter": "python",
   "pygments_lexer": "ipython3",
   "version": "3.9.9"
  }
 },
 "nbformat": 4,
 "nbformat_minor": 5
}
